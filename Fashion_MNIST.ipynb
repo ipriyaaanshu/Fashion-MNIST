{
  "nbformat": 4,
  "nbformat_minor": 0,
  "metadata": {
    "colab": {
      "name": "Fashion-MNIST.ipynb",
      "version": "0.3.2",
      "provenance": [],
      "include_colab_link": true
    },
    "kernelspec": {
      "name": "python3",
      "display_name": "Python 3"
    },
    "accelerator": "GPU"
  },
  "cells": [
    {
      "cell_type": "markdown",
      "metadata": {
        "id": "view-in-github",
        "colab_type": "text"
      },
      "source": [
        "<a href=\"https://colab.research.google.com/github/priyanshu1210/Fashion-MNIST/blob/master/Fashion_MNIST.ipynb\" target=\"_parent\"><img src=\"https://colab.research.google.com/assets/colab-badge.svg\" alt=\"Open In Colab\"/></a>"
      ]
    },
    {
      "metadata": {
        "id": "E8IQ_Vgub6pU",
        "colab_type": "code",
        "colab": {
          "base_uri": "https://localhost:8080/",
          "height": 34
        },
        "outputId": "ba927e6d-d566-4580-d311-e13599a6a31f"
      },
      "cell_type": "code",
      "source": [
        "import tensorflow as tf\n",
        "\n",
        "import numpy as np\n",
        "import matplotlib.pyplot as plt\n",
        "\n",
        "# Load the fashion-mnist pre-shuffled train data and test data\n",
        "(x_train, y_train), (x_test, y_test) = tf.keras.datasets.fashion_mnist.load_data()\n",
        "\n",
        "print(\"x_train shape:\", x_train.shape, \"y_train shape:\", y_train.shape)"
      ],
      "execution_count": 27,
      "outputs": [
        {
          "output_type": "stream",
          "text": [
            "x_train shape: (60000, 28, 28) y_train shape: (60000,)\n"
          ],
          "name": "stdout"
        }
      ]
    },
    {
      "metadata": {
        "id": "tuUcMrLocNKY",
        "colab_type": "code",
        "colab": {
          "base_uri": "https://localhost:8080/",
          "height": 70
        },
        "outputId": "1a5598b8-7476-4af7-8ce5-d5126ef639f3"
      },
      "cell_type": "code",
      "source": [
        "print(\"x_train shape:\", x_train.shape, \"y_train shape:\", y_train.shape)\n",
        "\n",
        "# Print the number of training and test datasets\n",
        "print(x_train.shape[0], 'train set')\n",
        "print(x_test.shape[0], 'test set')\n",
        "\n",
        "# Define the text labels\n",
        "fashion_mnist_labels = [\"T-shirt/top\",  # index 0\n",
        "                        \"Trouser\",      # index 1\n",
        "                        \"Pullover\",     # index 2 \n",
        "                        \"Dress\",        # index 3 \n",
        "                        \"Coat\",         # index 4\n",
        "                        \"Sandal\",       # index 5\n",
        "                        \"Shirt\",        # index 6 \n",
        "                        \"Sneaker\",      # index 7 \n",
        "                        \"Bag\",          # index 8 \n",
        "                        \"Ankle boot\"]   # index 9"
      ],
      "execution_count": 28,
      "outputs": [
        {
          "output_type": "stream",
          "text": [
            "x_train shape: (60000, 28, 28) y_train shape: (60000,)\n",
            "60000 train set\n",
            "10000 test set\n"
          ],
          "name": "stdout"
        }
      ]
    },
    {
      "metadata": {
        "id": "alrwt-tmccAo",
        "colab_type": "code",
        "colab": {
          "base_uri": "https://localhost:8080/",
          "height": 365
        },
        "outputId": "8c441231-3cb6-4929-ee6f-beb242c8f00d"
      },
      "cell_type": "code",
      "source": [
        "plt.imshow(x_train[20])"
      ],
      "execution_count": 29,
      "outputs": [
        {
          "output_type": "execute_result",
          "data": {
            "text/plain": [
              "<matplotlib.image.AxesImage at 0x7fee8bd86eb8>"
            ]
          },
          "metadata": {
            "tags": []
          },
          "execution_count": 29
        },
        {
          "output_type": "display_data",
          "data": {
            "image/png": "[encoded data removed]",
            "text/plain": [
              "<matplotlib.figure.Figure at 0x7fee8be24390>"
            ]
          },
          "metadata": {
            "tags": []
          }
        }
      ]
    },
    {
      "metadata": {
        "id": "CGX1kCL3cozY",
        "colab_type": "code",
        "colab": {
          "base_uri": "https://localhost:8080/",
          "height": 34
        },
        "outputId": "53d4e567-9edb-4e75-fdde-ea9ef4646c78"
      },
      "cell_type": "code",
      "source": [
        "print(fashion_mnist_labels[y_train[20]])"
      ],
      "execution_count": 30,
      "outputs": [
        {
          "output_type": "stream",
          "text": [
            "Dress\n"
          ],
          "name": "stdout"
        }
      ]
    },
    {
      "metadata": {
        "id": "4AKEmwXCcz0W",
        "colab_type": "code",
        "colab": {}
      },
      "cell_type": "code",
      "source": [
        "x_train = x_train.astype('float32') / 255\n",
        "x_test = x_test.astype('float32') / 255"
      ],
      "execution_count": 0,
      "outputs": []
    },
    {
      "metadata": {
        "id": "iO3mc8Z7dLHZ",
        "colab_type": "code",
        "colab": {
          "base_uri": "https://localhost:8080/",
          "height": 87
        },
        "outputId": "b0a6fe6b-a226-4780-f29a-135093842fa2"
      },
      "cell_type": "code",
      "source": [
        "# Further break training data into train / validation sets\n",
        "(x_train, x_valid) = x_train[5000:], x_train[:5000] \n",
        "(y_train, y_valid) = y_train[5000:], y_train[:5000]\n",
        "\n",
        "# Reshape input data\n",
        "x_train = x_train.reshape(x_train.shape[0], 28,28, 1)\n",
        "x_valid = x_valid.reshape(x_valid.shape[0], 28,28, 1)\n",
        "x_test = x_test.reshape(x_test.shape[0], 28,28, 1)\n",
        "\n",
        "# One-hot encode the labels\n",
        "y_train = tf.keras.utils.to_categorical(y_train, 10)\n",
        "y_valid = tf.keras.utils.to_categorical(y_valid, 10)\n",
        "y_test = tf.keras.utils.to_categorical(y_test, 10)\n",
        "\n",
        "# Print training set shape\n",
        "print(\"x_train shape:\", x_train.shape, \"y_train shape:\", y_train.shape)\n",
        "\n",
        "# Print the number of training, validation, and test datasets\n",
        "print(x_train.shape[0], 'train set')\n",
        "print(x_valid.shape[0], 'validation set')\n",
        "print(x_test.shape[0], 'test set')"
      ],
      "execution_count": 32,
      "outputs": [
        {
          "output_type": "stream",
          "text": [
            "x_train shape: (55000, 28, 28, 1) y_train shape: (55000, 10)\n",
            "55000 train set\n",
            "5000 validation set\n",
            "10000 test set\n"
          ],
          "name": "stdout"
        }
      ]
    },
    {
      "metadata": {
        "id": "RVk2c_S5dsaH",
        "colab_type": "code",
        "colab": {
          "base_uri": "https://localhost:8080/",
          "height": 492
        },
        "outputId": "082a7229-e396-4f1d-f7e7-1efa61f771be"
      },
      "cell_type": "code",
      "source": [
        "model = tf.keras.Sequential()\n",
        "\n",
        "# Must define the input shape in the first layer of the neural network\n",
        "model.add(tf.keras.layers.Conv2D(filters=64, kernel_size=2, padding='same', activation='relu', input_shape=(28,28,1))) \n",
        "model.add(tf.keras.layers.MaxPooling2D(pool_size=2))\n",
        "model.add(tf.keras.layers.Dropout(0.3))\n",
        "\n",
        "model.add(tf.keras.layers.Conv2D(filters=32, kernel_size=2, padding='same', activation='relu'))\n",
        "model.add(tf.keras.layers.MaxPooling2D(pool_size=2))\n",
        "model.add(tf.keras.layers.Dropout(0.3))\n",
        "\n",
        "model.add(tf.keras.layers.Flatten())\n",
        "model.add(tf.keras.layers.Dense(256, activation='relu'))\n",
        "model.add(tf.keras.layers.Dropout(0.5))\n",
        "model.add(tf.keras.layers.Dense(10, activation='softmax'))\n",
        "\n",
        "# Take a look at the model summary\n",
        "model.summary()"
      ],
      "execution_count": 33,
      "outputs": [
        {
          "output_type": "stream",
          "text": [
            "_________________________________________________________________\n",
            "Layer (type)                 Output Shape              Param #   \n",
            "=================================================================\n",
            "conv2d_10 (Conv2D)           (None, 28, 28, 64)        320       \n",
            "_________________________________________________________________\n",
            "max_pooling2d_10 (MaxPooling (None, 14, 14, 64)        0         \n",
            "_________________________________________________________________\n",
            "dropout_15 (Dropout)         (None, 14, 14, 64)        0         \n",
            "_________________________________________________________________\n",
            "conv2d_11 (Conv2D)           (None, 14, 14, 32)        8224      \n",
            "_________________________________________________________________\n",
            "max_pooling2d_11 (MaxPooling (None, 7, 7, 32)          0         \n",
            "_________________________________________________________________\n",
            "dropout_16 (Dropout)         (None, 7, 7, 32)          0         \n",
            "_________________________________________________________________\n",
            "flatten_5 (Flatten)          (None, 1568)              0         \n",
            "_________________________________________________________________\n",
            "dense_10 (Dense)             (None, 256)               401664    \n",
            "_________________________________________________________________\n",
            "dropout_17 (Dropout)         (None, 256)               0         \n",
            "_________________________________________________________________\n",
            "dense_11 (Dense)             (None, 10)                2570      \n",
            "=================================================================\n",
            "Total params: 412,778\n",
            "Trainable params: 412,778\n",
            "Non-trainable params: 0\n",
            "_________________________________________________________________\n"
          ],
          "name": "stdout"
        }
      ]
    },
    {
      "metadata": {
        "id": "iLwc8LCXd_DS",
        "colab_type": "code",
        "colab": {}
      },
      "cell_type": "code",
      "source": [
        "model.compile(loss='categorical_crossentropy',\n",
        "             optimizer='adam',\n",
        "             metrics=['accuracy'])"
      ],
      "execution_count": 0,
      "outputs": []
    },
    {
      "metadata": {
        "id": "6T_Gaz29eFFG",
        "colab_type": "code",
        "colab": {
          "base_uri": "https://localhost:8080/",
          "height": 3572
        },
        "outputId": "4b1064ac-6339-4f37-8a94-3808a4997835"
      },
      "cell_type": "code",
      "source": [
        "model.fit(x_train,y_train, batch_size=100, epochs=100, validation_data=(x_valid, y_valid))"
      ],
      "execution_count": 35,
      "outputs": [
        {
          "output_type": "stream",
          "text": [
            "Train on 55000 samples, validate on 5000 samples\n",
            "Epoch 1/100\n",
            "55000/55000 [==============================] - 9s 170us/step - loss: 0.6236 - acc: 0.7699 - val_loss: 0.3905 - val_acc: 0.8670\n",
            "Epoch 2/100\n",
            "55000/55000 [==============================] - 7s 127us/step - loss: 0.4195 - acc: 0.8483 - val_loss: 0.3403 - val_acc: 0.8820\n",
            "Epoch 3/100\n",
            "55000/55000 [==============================] - 7s 128us/step - loss: 0.3760 - acc: 0.8627 - val_loss: 0.3001 - val_acc: 0.8944\n",
            "Epoch 4/100\n",
            "55000/55000 [==============================] - 7s 127us/step - loss: 0.3500 - acc: 0.8725 - val_loss: 0.2803 - val_acc: 0.8992\n",
            "Epoch 5/100\n",
            "55000/55000 [==============================] - 7s 128us/step - loss: 0.3259 - acc: 0.8803 - val_loss: 0.2623 - val_acc: 0.9078\n",
            "Epoch 6/100\n",
            "55000/55000 [==============================] - 7s 128us/step - loss: 0.3102 - acc: 0.8883 - val_loss: 0.2608 - val_acc: 0.9038\n",
            "Epoch 7/100\n",
            "55000/55000 [==============================] - 7s 128us/step - loss: 0.2982 - acc: 0.8917 - val_loss: 0.2485 - val_acc: 0.9074\n",
            "Epoch 8/100\n",
            "55000/55000 [==============================] - 7s 127us/step - loss: 0.2869 - acc: 0.8948 - val_loss: 0.2346 - val_acc: 0.9156\n",
            "Epoch 9/100\n",
            "55000/55000 [==============================] - 7s 127us/step - loss: 0.2788 - acc: 0.8970 - val_loss: 0.2304 - val_acc: 0.9172\n",
            "Epoch 10/100\n",
            "55000/55000 [==============================] - 7s 129us/step - loss: 0.2678 - acc: 0.9023 - val_loss: 0.2261 - val_acc: 0.9162\n",
            "Epoch 11/100\n",
            "55000/55000 [==============================] - 7s 130us/step - loss: 0.2618 - acc: 0.9032 - val_loss: 0.2270 - val_acc: 0.9158\n",
            "Epoch 12/100\n",
            "55000/55000 [==============================] - 7s 127us/step - loss: 0.2573 - acc: 0.9053 - val_loss: 0.2214 - val_acc: 0.9188\n",
            "Epoch 13/100\n",
            "55000/55000 [==============================] - 7s 128us/step - loss: 0.2529 - acc: 0.9056 - val_loss: 0.2232 - val_acc: 0.9180\n",
            "Epoch 14/100\n",
            "55000/55000 [==============================] - 7s 127us/step - loss: 0.2465 - acc: 0.9078 - val_loss: 0.2142 - val_acc: 0.9192\n",
            "Epoch 15/100\n",
            "55000/55000 [==============================] - 7s 126us/step - loss: 0.2418 - acc: 0.9108 - val_loss: 0.2162 - val_acc: 0.9174\n",
            "Epoch 16/100\n",
            "55000/55000 [==============================] - 7s 127us/step - loss: 0.2366 - acc: 0.9128 - val_loss: 0.2333 - val_acc: 0.9132\n",
            "Epoch 17/100\n",
            "55000/55000 [==============================] - 7s 127us/step - loss: 0.2320 - acc: 0.9147 - val_loss: 0.2111 - val_acc: 0.9208\n",
            "Epoch 18/100\n",
            "55000/55000 [==============================] - 7s 127us/step - loss: 0.2290 - acc: 0.9154 - val_loss: 0.2076 - val_acc: 0.9238\n",
            "Epoch 19/100\n",
            "55000/55000 [==============================] - 7s 126us/step - loss: 0.2233 - acc: 0.9172 - val_loss: 0.2052 - val_acc: 0.9238\n",
            "Epoch 20/100\n",
            "55000/55000 [==============================] - 7s 127us/step - loss: 0.2231 - acc: 0.9166 - val_loss: 0.2080 - val_acc: 0.9198\n",
            "Epoch 21/100\n",
            "55000/55000 [==============================] - 7s 128us/step - loss: 0.2184 - acc: 0.9185 - val_loss: 0.2035 - val_acc: 0.9234\n",
            "Epoch 22/100\n",
            "55000/55000 [==============================] - 7s 127us/step - loss: 0.2137 - acc: 0.9216 - val_loss: 0.2062 - val_acc: 0.9256\n",
            "Epoch 23/100\n",
            "55000/55000 [==============================] - 7s 126us/step - loss: 0.2155 - acc: 0.9194 - val_loss: 0.2071 - val_acc: 0.9190\n",
            "Epoch 24/100\n",
            "55000/55000 [==============================] - 7s 126us/step - loss: 0.2118 - acc: 0.9202 - val_loss: 0.2013 - val_acc: 0.9248\n",
            "Epoch 25/100\n",
            "55000/55000 [==============================] - 7s 126us/step - loss: 0.2104 - acc: 0.9225 - val_loss: 0.1966 - val_acc: 0.9276\n",
            "Epoch 26/100\n",
            "55000/55000 [==============================] - 7s 126us/step - loss: 0.2036 - acc: 0.9241 - val_loss: 0.1999 - val_acc: 0.9254\n",
            "Epoch 27/100\n",
            "55000/55000 [==============================] - 7s 127us/step - loss: 0.2028 - acc: 0.9243 - val_loss: 0.2010 - val_acc: 0.9238\n",
            "Epoch 28/100\n",
            "55000/55000 [==============================] - 7s 127us/step - loss: 0.2022 - acc: 0.9237 - val_loss: 0.1990 - val_acc: 0.9250\n",
            "Epoch 29/100\n",
            "55000/55000 [==============================] - 7s 127us/step - loss: 0.1994 - acc: 0.9255 - val_loss: 0.2043 - val_acc: 0.9242\n",
            "Epoch 30/100\n",
            "55000/55000 [==============================] - 7s 127us/step - loss: 0.1978 - acc: 0.9261 - val_loss: 0.1995 - val_acc: 0.9236\n",
            "Epoch 31/100\n",
            "55000/55000 [==============================] - 7s 126us/step - loss: 0.1944 - acc: 0.9270 - val_loss: 0.1965 - val_acc: 0.9260\n",
            "Epoch 32/100\n",
            "55000/55000 [==============================] - 7s 127us/step - loss: 0.1923 - acc: 0.9271 - val_loss: 0.1934 - val_acc: 0.9294\n",
            "Epoch 33/100\n",
            "55000/55000 [==============================] - 7s 127us/step - loss: 0.1910 - acc: 0.9288 - val_loss: 0.2038 - val_acc: 0.9236\n",
            "Epoch 34/100\n",
            "55000/55000 [==============================] - 7s 127us/step - loss: 0.1885 - acc: 0.9299 - val_loss: 0.1975 - val_acc: 0.9274\n",
            "Epoch 35/100\n",
            "55000/55000 [==============================] - 7s 126us/step - loss: 0.1878 - acc: 0.9287 - val_loss: 0.1972 - val_acc: 0.9278\n",
            "Epoch 36/100\n",
            "55000/55000 [==============================] - 7s 129us/step - loss: 0.1889 - acc: 0.9290 - val_loss: 0.1947 - val_acc: 0.9306\n",
            "Epoch 37/100\n",
            "55000/55000 [==============================] - 7s 128us/step - loss: 0.1841 - acc: 0.9304 - val_loss: 0.1950 - val_acc: 0.9292\n",
            "Epoch 38/100\n",
            "55000/55000 [==============================] - 7s 126us/step - loss: 0.1838 - acc: 0.9307 - val_loss: 0.1942 - val_acc: 0.9298\n",
            "Epoch 39/100\n",
            "55000/55000 [==============================] - 7s 125us/step - loss: 0.1828 - acc: 0.9297 - val_loss: 0.1977 - val_acc: 0.9286\n",
            "Epoch 40/100\n",
            "55000/55000 [==============================] - 7s 125us/step - loss: 0.1815 - acc: 0.9308 - val_loss: 0.2000 - val_acc: 0.9280\n",
            "Epoch 41/100\n",
            "55000/55000 [==============================] - 7s 128us/step - loss: 0.1770 - acc: 0.9328 - val_loss: 0.1928 - val_acc: 0.9302\n",
            "Epoch 42/100\n",
            "55000/55000 [==============================] - 7s 126us/step - loss: 0.1762 - acc: 0.9330 - val_loss: 0.1969 - val_acc: 0.9306\n",
            "Epoch 43/100\n",
            "55000/55000 [==============================] - 7s 126us/step - loss: 0.1788 - acc: 0.9324 - val_loss: 0.1925 - val_acc: 0.9288\n",
            "Epoch 44/100\n",
            "55000/55000 [==============================] - 7s 126us/step - loss: 0.1766 - acc: 0.9334 - val_loss: 0.2001 - val_acc: 0.9260\n",
            "Epoch 45/100\n",
            "55000/55000 [==============================] - 7s 125us/step - loss: 0.1750 - acc: 0.9346 - val_loss: 0.2033 - val_acc: 0.9252\n",
            "Epoch 46/100\n",
            "55000/55000 [==============================] - 7s 127us/step - loss: 0.1743 - acc: 0.9334 - val_loss: 0.1988 - val_acc: 0.9278\n",
            "Epoch 47/100\n",
            "55000/55000 [==============================] - 7s 126us/step - loss: 0.1745 - acc: 0.9340 - val_loss: 0.2034 - val_acc: 0.9264\n",
            "Epoch 48/100\n",
            "55000/55000 [==============================] - 7s 127us/step - loss: 0.1760 - acc: 0.9345 - val_loss: 0.1970 - val_acc: 0.9282\n",
            "Epoch 49/100\n",
            "55000/55000 [==============================] - 7s 129us/step - loss: 0.1706 - acc: 0.9361 - val_loss: 0.1938 - val_acc: 0.9300\n",
            "Epoch 50/100\n",
            "55000/55000 [==============================] - 7s 126us/step - loss: 0.1724 - acc: 0.9353 - val_loss: 0.1914 - val_acc: 0.9334\n",
            "Epoch 51/100\n",
            "55000/55000 [==============================] - 7s 126us/step - loss: 0.1697 - acc: 0.9351 - val_loss: 0.1917 - val_acc: 0.9320\n",
            "Epoch 52/100\n",
            "55000/55000 [==============================] - 7s 127us/step - loss: 0.1680 - acc: 0.9365 - val_loss: 0.1925 - val_acc: 0.9296\n",
            "Epoch 53/100\n",
            "55000/55000 [==============================] - 7s 128us/step - loss: 0.1695 - acc: 0.9347 - val_loss: 0.1948 - val_acc: 0.9294\n",
            "Epoch 54/100\n",
            "55000/55000 [==============================] - 7s 126us/step - loss: 0.1666 - acc: 0.9378 - val_loss: 0.1913 - val_acc: 0.9296\n",
            "Epoch 55/100\n",
            "55000/55000 [==============================] - 7s 126us/step - loss: 0.1654 - acc: 0.9371 - val_loss: 0.1984 - val_acc: 0.9278\n",
            "Epoch 56/100\n",
            "55000/55000 [==============================] - 7s 129us/step - loss: 0.1658 - acc: 0.9373 - val_loss: 0.1938 - val_acc: 0.9270\n",
            "Epoch 57/100\n",
            "55000/55000 [==============================] - 7s 127us/step - loss: 0.1643 - acc: 0.9383 - val_loss: 0.1990 - val_acc: 0.9298\n",
            "Epoch 58/100\n",
            "55000/55000 [==============================] - 7s 127us/step - loss: 0.1636 - acc: 0.9383 - val_loss: 0.1981 - val_acc: 0.9266\n",
            "Epoch 59/100\n",
            "55000/55000 [==============================] - 7s 127us/step - loss: 0.1588 - acc: 0.9404 - val_loss: 0.2037 - val_acc: 0.9264\n",
            "Epoch 60/100\n",
            "55000/55000 [==============================] - 7s 128us/step - loss: 0.1638 - acc: 0.9383 - val_loss: 0.2018 - val_acc: 0.9286\n",
            "Epoch 61/100\n",
            "55000/55000 [==============================] - 7s 125us/step - loss: 0.1626 - acc: 0.9388 - val_loss: 0.1946 - val_acc: 0.9326\n",
            "Epoch 62/100\n",
            "55000/55000 [==============================] - 7s 126us/step - loss: 0.1599 - acc: 0.9393 - val_loss: 0.1990 - val_acc: 0.9284\n",
            "Epoch 63/100\n",
            "55000/55000 [==============================] - 7s 126us/step - loss: 0.1581 - acc: 0.9384 - val_loss: 0.1976 - val_acc: 0.9330\n",
            "Epoch 64/100\n",
            "55000/55000 [==============================] - 7s 129us/step - loss: 0.1576 - acc: 0.9410 - val_loss: 0.2007 - val_acc: 0.9312\n",
            "Epoch 65/100\n",
            "55000/55000 [==============================] - 7s 128us/step - loss: 0.1621 - acc: 0.9385 - val_loss: 0.2012 - val_acc: 0.9314\n",
            "Epoch 66/100\n",
            "55000/55000 [==============================] - 7s 126us/step - loss: 0.1588 - acc: 0.9398 - val_loss: 0.2037 - val_acc: 0.9294\n",
            "Epoch 67/100\n",
            "55000/55000 [==============================] - 8s 142us/step - loss: 0.1557 - acc: 0.9410 - val_loss: 0.1972 - val_acc: 0.9314\n",
            "Epoch 68/100\n",
            "55000/55000 [==============================] - 7s 133us/step - loss: 0.1558 - acc: 0.9414 - val_loss: 0.1980 - val_acc: 0.9320\n",
            "Epoch 69/100\n",
            "55000/55000 [==============================] - 7s 129us/step - loss: 0.1580 - acc: 0.9400 - val_loss: 0.2117 - val_acc: 0.9232\n",
            "Epoch 70/100\n",
            "55000/55000 [==============================] - 7s 127us/step - loss: 0.1570 - acc: 0.9401 - val_loss: 0.2004 - val_acc: 0.9278\n",
            "Epoch 71/100\n",
            "55000/55000 [==============================] - 7s 128us/step - loss: 0.1507 - acc: 0.9430 - val_loss: 0.1958 - val_acc: 0.9340\n",
            "Epoch 72/100\n",
            "55000/55000 [==============================] - 7s 127us/step - loss: 0.1543 - acc: 0.9416 - val_loss: 0.2066 - val_acc: 0.9278\n",
            "Epoch 73/100\n",
            "55000/55000 [==============================] - 7s 126us/step - loss: 0.1540 - acc: 0.9398 - val_loss: 0.2050 - val_acc: 0.9288\n",
            "Epoch 74/100\n",
            "55000/55000 [==============================] - 7s 125us/step - loss: 0.1535 - acc: 0.9424 - val_loss: 0.2035 - val_acc: 0.9280\n",
            "Epoch 75/100\n",
            "55000/55000 [==============================] - 7s 126us/step - loss: 0.1536 - acc: 0.9419 - val_loss: 0.1971 - val_acc: 0.9292\n",
            "Epoch 76/100\n",
            "55000/55000 [==============================] - 7s 127us/step - loss: 0.1521 - acc: 0.9423 - val_loss: 0.1938 - val_acc: 0.9276\n",
            "Epoch 77/100\n",
            "55000/55000 [==============================] - 7s 127us/step - loss: 0.1517 - acc: 0.9426 - val_loss: 0.2060 - val_acc: 0.9308\n",
            "Epoch 78/100\n",
            "55000/55000 [==============================] - 7s 126us/step - loss: 0.1507 - acc: 0.9433 - val_loss: 0.2106 - val_acc: 0.9288\n",
            "Epoch 79/100\n",
            "55000/55000 [==============================] - 7s 128us/step - loss: 0.1481 - acc: 0.9435 - val_loss: 0.1919 - val_acc: 0.9320\n",
            "Epoch 80/100\n",
            "55000/55000 [==============================] - 7s 127us/step - loss: 0.1503 - acc: 0.9445 - val_loss: 0.2068 - val_acc: 0.9290\n",
            "Epoch 81/100\n",
            "55000/55000 [==============================] - 7s 126us/step - loss: 0.1461 - acc: 0.9445 - val_loss: 0.1996 - val_acc: 0.9298\n",
            "Epoch 82/100\n",
            "55000/55000 [==============================] - 7s 127us/step - loss: 0.1490 - acc: 0.9440 - val_loss: 0.2057 - val_acc: 0.9296\n",
            "Epoch 83/100\n",
            "55000/55000 [==============================] - 7s 127us/step - loss: 0.1495 - acc: 0.9432 - val_loss: 0.2045 - val_acc: 0.9292\n",
            "Epoch 84/100\n",
            "55000/55000 [==============================] - 7s 127us/step - loss: 0.1494 - acc: 0.9427 - val_loss: 0.1989 - val_acc: 0.9300\n",
            "Epoch 85/100\n",
            "55000/55000 [==============================] - 7s 126us/step - loss: 0.1455 - acc: 0.9435 - val_loss: 0.1955 - val_acc: 0.9306\n",
            "Epoch 86/100\n",
            "55000/55000 [==============================] - 7s 127us/step - loss: 0.1475 - acc: 0.9443 - val_loss: 0.1984 - val_acc: 0.9320\n",
            "Epoch 87/100\n",
            "55000/55000 [==============================] - 7s 126us/step - loss: 0.1476 - acc: 0.9448 - val_loss: 0.1943 - val_acc: 0.9328\n",
            "Epoch 88/100\n",
            "55000/55000 [==============================] - 7s 127us/step - loss: 0.1472 - acc: 0.9442 - val_loss: 0.1916 - val_acc: 0.9304\n",
            "Epoch 89/100\n",
            "55000/55000 [==============================] - 7s 127us/step - loss: 0.1440 - acc: 0.9455 - val_loss: 0.1981 - val_acc: 0.9324\n",
            "Epoch 90/100\n",
            "55000/55000 [==============================] - 7s 127us/step - loss: 0.1419 - acc: 0.9458 - val_loss: 0.2048 - val_acc: 0.9280\n",
            "Epoch 91/100\n",
            "55000/55000 [==============================] - 7s 127us/step - loss: 0.1443 - acc: 0.9450 - val_loss: 0.2052 - val_acc: 0.9284\n",
            "Epoch 92/100\n",
            "55000/55000 [==============================] - 7s 127us/step - loss: 0.1448 - acc: 0.9459 - val_loss: 0.1988 - val_acc: 0.9292\n",
            "Epoch 93/100\n",
            "55000/55000 [==============================] - 7s 127us/step - loss: 0.1443 - acc: 0.9461 - val_loss: 0.1982 - val_acc: 0.9326\n",
            "Epoch 94/100\n",
            "55000/55000 [==============================] - 7s 127us/step - loss: 0.1452 - acc: 0.9445 - val_loss: 0.2006 - val_acc: 0.9298\n",
            "Epoch 95/100\n",
            "55000/55000 [==============================] - 7s 129us/step - loss: 0.1446 - acc: 0.9454 - val_loss: 0.2046 - val_acc: 0.9292\n",
            "Epoch 96/100\n",
            "55000/55000 [==============================] - 7s 131us/step - loss: 0.1401 - acc: 0.9466 - val_loss: 0.2054 - val_acc: 0.9292\n",
            "Epoch 97/100\n",
            "55000/55000 [==============================] - 7s 127us/step - loss: 0.1454 - acc: 0.9457 - val_loss: 0.2014 - val_acc: 0.9296\n",
            "Epoch 98/100\n",
            "55000/55000 [==============================] - 7s 126us/step - loss: 0.1419 - acc: 0.9461 - val_loss: 0.2058 - val_acc: 0.9278\n",
            "Epoch 99/100\n",
            "55000/55000 [==============================] - 7s 126us/step - loss: 0.1449 - acc: 0.9446 - val_loss: 0.2080 - val_acc: 0.9316\n",
            "Epoch 100/100\n",
            "55000/55000 [==============================] - 7s 126us/step - loss: 0.1443 - acc: 0.9457 - val_loss: 0.2055 - val_acc: 0.9320\n"
          ],
          "name": "stdout"
        },
        {
          "output_type": "execute_result",
          "data": {
            "text/plain": [
              "<tensorflow.python.keras.callbacks.History at 0x7fee8bd998d0>"
            ]
          },
          "metadata": {
            "tags": []
          },
          "execution_count": 35
        }
      ]
    },
    {
      "metadata": {
        "id": "cBha2BdzeOWq",
        "colab_type": "code",
        "colab": {
          "base_uri": "https://localhost:8080/",
          "height": 52
        },
        "outputId": "ff22eab6-2706-4035-9ad7-332a5b5820b5"
      },
      "cell_type": "code",
      "source": [
        "# Evaluate the model on test set\n",
        "score = model.evaluate(x_test, y_test, verbose=0)\n",
        "\n",
        "# Print test accuracy\n",
        "print('\\n', 'Test accuracy:', score[1])"
      ],
      "execution_count": 36,
      "outputs": [
        {
          "output_type": "stream",
          "text": [
            "\n",
            " Test accuracy: 0.9239\n"
          ],
          "name": "stdout"
        }
      ]
    },
    {
      "metadata": {
        "id": "9xj89DgukQry",
        "colab_type": "code",
        "colab": {
          "base_uri": "https://localhost:8080/",
          "height": 481
        },
        "outputId": "5a468ba6-f3d8-470e-9d4f-3b93aeca16aa"
      },
      "cell_type": "code",
      "source": [
        "y_hat = model.predict(x_test)\n",
        "\n",
        "# Plot a random sample of 10 test images, their predicted labels and ground truth\n",
        "figure = plt.figure(figsize=(20, 8))\n",
        "for i, index in enumerate(np.random.choice(x_test.shape[0], size=15, replace=False)):\n",
        "    ax = figure.add_subplot(3, 5, i + 1, xticks=[], yticks=[])\n",
        "    # Display each image\n",
        "    ax.imshow(np.squeeze(x_test[index]))\n",
        "    predict_index = np.argmax(y_hat[index])\n",
        "    true_index = np.argmax(y_test[index])\n",
        "    # Set the title for each image\n",
        "    ax.set_title(\"{} ({})\".format(fashion_mnist_labels[predict_index], \n",
        "                                  fashion_mnist_labels[true_index]),\n",
        "                                  color=(\"green\" if predict_index == true_index else \"red\"))"
      ],
      "execution_count": 40,
      "outputs": [
        {
          "output_type": "display_data",
          "data": {
            "image/png": "[encoded data removed]",
            "text/plain": [
              "<matplotlib.figure.Figure at 0x7fee84ebe0f0>"
            ]
          },
          "metadata": {
            "tags": []
          }
        }
      ]
    },
    {
      "metadata": {
        "id": "mzjz4X7WkeKZ",
        "colab_type": "code",
        "colab": {}
      },
      "cell_type": "code",
      "source": [
        ""
      ],
      "execution_count": 0,
      "outputs": []
    }
  ]
}